{
 "cells": [
  {
   "cell_type": "code",
   "execution_count": null,
   "metadata": {},
   "outputs": [],
   "source": [
    "import csv\n",
    "import os\n",
    "\n",
    "import matplotlib.pyplot as plt\n",
    "import cv2\n",
    "import mediapipe as mp\n",
    "import numpy as np\n",
    "import pandas as pd\n",
    "from tqdm import tqdm\n",
    "from pathlib import Path\n",
    "from PIL import Image\n",
    "from mediapipe.framework.formats.landmark_pb2 import NormalizedLandmarkList"
   ]
  },
  {
   "cell_type": "code",
   "execution_count": null,
   "metadata": {},
   "outputs": [],
   "source": [
    "def get_facemesh_coords(\n",
    "    landmark_list: NormalizedLandmarkList, img: np.ndarray, normalize: bool = True\n",
    ") -> np.ndarray:\n",
    "    \"\"\"Extract FaceMesh landmark coordinates into 468x3 NumPy array.\"\"\"\n",
    "    h, w = img.shape[:2]  # grab width and height from image\n",
    "    xyz = [(lm.x, lm.y, lm.z) for lm in landmark_list.landmark]\n",
    "    if normalize:\n",
    "        return np.array(xyz).astype(float)\n",
    "    return np.multiply(xyz, [w, h, w]).astype(int)"
   ]
  },
  {
   "cell_type": "code",
   "execution_count": null,
   "metadata": {},
   "outputs": [],
   "source": [
    "data_dir = Path(\"../data/photographed_data\")\n",
    "visualize_dir = Path(\"../data/mediapipe_visualize\")\n",
    "meshrender_dir = Path(\"../data/mediapipe_render\")\n",
    "if not visualize_dir.exists(): visualize_dir.mkdir()\n",
    "if not meshrender_dir.exists(): meshrender_dir.mkdir()\n",
    "\n",
    "is_save_image = False\n",
    "is_render_mesh = False\n",
    "data_table = pd.read_csv(\"../data/photographed_data/processed_data_table.csv\")\n",
    "\n",
    "left_iris_index = {474,475, 476, 477}\n",
    "right_iris_index = {469, 470, 471, 472}\n",
    "left_eye_index = {362, 382, 381, 380, 374, 373, 390, 249, 263, 466, 388, 387, 386, 385,384, 398 }\n",
    "right_eye_index = {33, 7, 163, 144, 145, 153, 154, 155, 133, 173, 157, 158, 159, 160, 161 , 246 }\n",
    "facemesh_index = {_ for _ in range(478)}-left_iris_index-right_iris_index-left_eye_index-right_eye_index\n",
    "\n",
    "iris_idx = sorted(list(left_iris_index | right_iris_index))\n",
    "eye_idx = sorted(list(left_eye_index | right_eye_index))\n",
    "face_idx = sorted(list(facemesh_index))\n",
    "\n",
    "iris_columns = [f\"iris{e}_{c}\" for e in iris_idx for c in [\"x\", \"y\", \"z\"]]\n",
    "eye_columns = [f\"eye{e}_{c}\" for e in eye_idx for c in [\"x\", \"y\", \"z\"]]\n",
    "face_columns = [f\"face{e}_{c}\" for e in face_idx for c in [\"x\", \"y\", \"z\"]]\n",
    "\n",
    "print(len(iris_columns) + len(eye_columns) + len(face_columns))"
   ]
  },
  {
   "cell_type": "code",
   "execution_count": null,
   "metadata": {},
   "outputs": [],
   "source": [
    "\n",
    "mp_drawing = mp.solutions.drawing_utils\n",
    "mp_drawing_styles = mp.solutions.drawing_styles\n",
    "mp_face_mesh = mp.solutions.face_mesh\n",
    "with mp_face_mesh.FaceMesh(\n",
    "        static_image_mode=False,\n",
    "        max_num_faces=1,\n",
    "        refine_landmarks=True,\n",
    "        min_detection_confidence=0.5,\n",
    "        min_tracking_confidence=0.5,\n",
    "    ) as face_mesh:\n",
    "    face_mesh_table = np.zeros(shape=(len(data_table), 478*3))\n",
    "    relative_img_path_list = []\n",
    "    for i, relative_img_path in enumerate(tqdm(data_table[\"PATH\"].values)):\n",
    "        mesh_point_cnt = 0\n",
    "        relative_img_path_list.append(relative_img_path)\n",
    "        # image = np.array(Image.open(\"../datasets/photographed_data/C/WIN_20221122_16_15_25_Pro_00000060.jpg\"))\n",
    "        img_path = data_dir.joinpath(relative_img_path)\n",
    "        image = np.array(Image.open(img_path))\n",
    "        render = np.zeros(image.shape, dtype=np.uint8)\n",
    "        results = face_mesh.process(image)\n",
    "        if results.multi_face_landmarks is not None:\n",
    "            face_landmarks = results.multi_face_landmarks[0]\n",
    "            coords = get_facemesh_coords(face_landmarks, image, normalize=False)\n",
    "            for e in sorted(list(left_iris_index | right_iris_index)):\n",
    "                landmark = face_landmarks.landmark[e]\n",
    "                # print(mesh_point_cnt*3 + 0)\n",
    "                face_mesh_table[i, mesh_point_cnt*3 + 0] = landmark.x\n",
    "                face_mesh_table[i, mesh_point_cnt*3 + 1] = landmark.y\n",
    "                face_mesh_table[i, mesh_point_cnt*3 + 2] = landmark.z\n",
    "\n",
    "                if is_save_image:\n",
    "                    image = cv2.circle(\n",
    "                                image, (coords[e, 0], coords[e, 1]), 3, (255, 0, 0), thickness=-1\n",
    "                            )\n",
    "                if is_render_mesh:\n",
    "                    render = cv2.circle(\n",
    "                                render, (coords[e, 0], coords[e, 1]), 3, (255, 0, 255), thickness=-1\n",
    "                            )\n",
    "                mesh_point_cnt += 1\n",
    "            for e in sorted(list(left_eye_index | right_eye_index)):\n",
    "                landmark = face_landmarks.landmark[e]\n",
    "                face_mesh_table[i, mesh_point_cnt*3 + 0] = landmark.x\n",
    "                face_mesh_table[i, mesh_point_cnt*3 + 1] = landmark.y\n",
    "                face_mesh_table[i, mesh_point_cnt*3 + 2] = landmark.z\n",
    "\n",
    "                if is_save_image:\n",
    "                    image = cv2.circle(\n",
    "                        image, (coords[e, 0], coords[e, 1]), 2, (0, 255, 0)\n",
    "                    )\n",
    "                if is_render_mesh:\n",
    "                    render = cv2.circle(\n",
    "                        render, (coords[e, 0], coords[e, 1]), 2, (0, 255, 0)\n",
    "                    )\n",
    "                mesh_point_cnt += 1\n",
    "            for e in sorted(list(facemesh_index)):\n",
    "                landmark = face_landmarks.landmark[e]\n",
    "                face_mesh_table[i, mesh_point_cnt*3 + 0] = landmark.x\n",
    "                face_mesh_table[i, mesh_point_cnt*3 + 1] = landmark.y\n",
    "                face_mesh_table[i, mesh_point_cnt*3 + 2] = landmark.z\n",
    "                \n",
    "                if is_save_image:\n",
    "                    image = cv2.circle(\n",
    "                        image, (coords[e, 0], coords[e, 1]), 1, (0, 0, 100)\n",
    "                    )\n",
    "                if is_render_mesh:\n",
    "                    render = cv2.circle(\n",
    "                        render, (coords[e, 0], coords[e, 1]), 1, (0, 179, 239)\n",
    "                    )\n",
    "                mesh_point_cnt += 1\n",
    "        else:\n",
    "            # print(\"Detection Failure\")\n",
    "            pass\n",
    "        if not visualize_dir.joinpath(relative_img_path).parent.exists():\n",
    "            visualize_dir.joinpath(relative_img_path).parent.mkdir()\n",
    "        if not meshrender_dir.joinpath(relative_img_path).parent.exists():\n",
    "            meshrender_dir.joinpath(relative_img_path).parent.mkdir()\n",
    "        if is_save_image: Image.fromarray(image).save(visualize_dir.joinpath(relative_img_path))\n",
    "        if is_render_mesh: Image.fromarray(render).save(meshrender_dir.joinpath(relative_img_path))\n",
    "        # break\n",
    "    \n",
    "\n",
    "    face_mesh_df = pd.DataFrame(face_mesh_table, index=relative_img_path_list, columns=iris_columns+eye_columns+face_columns)\n",
    "    face_mesh_df.to_csv(visualize_dir.joinpath(\"facemesh.csv\"))\n",
    "\n",
    "# plt.imshow(image)\n",
    "# plt.show()\n",
    "# image.shape"
   ]
  },
  {
   "cell_type": "code",
   "execution_count": null,
   "metadata": {},
   "outputs": [],
   "source": [
    "face_mesh_df.reset_index().rename(columns={\"index\": \"PATH\"})"
   ]
  },
  {
   "cell_type": "code",
   "execution_count": null,
   "metadata": {},
   "outputs": [],
   "source": [
    "cat_df = pd.merge(data_table,face_mesh_df.reset_index().rename(columns={\"index\": \"PATH\"}))\n",
    "cat_df.to_csv(data_dir.joinpath(\"facemesh.csv\"), index=None)"
   ]
  },
  {
   "cell_type": "code",
   "execution_count": null,
   "metadata": {},
   "outputs": [],
   "source": [
    "import pandas as pd\n",
    "pd.read_csv(\"../data/photographed_data/facemesh.csv\")"
   ]
  },
  {
   "cell_type": "code",
   "execution_count": null,
   "metadata": {},
   "outputs": [],
   "source": []
  }
 ],
 "metadata": {
  "kernelspec": {
   "display_name": "develop",
   "language": "python",
   "name": "python3"
  },
  "language_info": {
   "codemirror_mode": {
    "name": "ipython",
    "version": 3
   },
   "file_extension": ".py",
   "mimetype": "text/x-python",
   "name": "python",
   "nbconvert_exporter": "python",
   "pygments_lexer": "ipython3",
   "version": "3.9.15"
  },
  "orig_nbformat": 4,
  "vscode": {
   "interpreter": {
    "hash": "212de005a22fb3fc227955dc6b7f06bbb3e45c5857d19e957736480d32b4311c"
   }
  }
 },
 "nbformat": 4,
 "nbformat_minor": 2
}
