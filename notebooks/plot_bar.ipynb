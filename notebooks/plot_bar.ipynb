{
 "cells": [
  {
   "cell_type": "code",
   "execution_count": null,
   "metadata": {},
   "outputs": [],
   "source": [
    "import pandas as pd\n",
    "import matplotlib.pyplot as plt\n",
    "import numpy as np"
   ]
  },
  {
   "cell_type": "code",
   "execution_count": null,
   "metadata": {},
   "outputs": [],
   "source": [
    "df = pd.read_csv(\"hel_annotation.csv\", index_col=None, header=None)\n",
    "df"
   ]
  },
  {
   "cell_type": "code",
   "execution_count": null,
   "metadata": {},
   "outputs": [],
   "source": [
    "contact = df[df[1] == \"Contact\"][2].values.tolist()\n",
    "ncontact = df[df[1] == \"Not Contact\"][2].values.tolist()\n",
    "labels = sorted(list(set(df[0].values.tolist())))"
   ]
  },
  {
   "cell_type": "code",
   "execution_count": null,
   "metadata": {},
   "outputs": [],
   "source": [
    "left = np.arange(len(contact))\n",
    "plt.figure(figsize=(8, 4))\n",
    "width = 0.3\n",
    " \n",
    "plt.bar(left, ncontact, width=width, align='center', label=\"Not Contact\")\n",
    "plt.bar(left+width+0.05, contact, width=width, align='center', label=\"Contact\")\n",
    "\n",
    "plt.xticks(left + width/2, labels)\n",
    "plt.legend()\n",
    "plt.xlabel(\"Human\")\n",
    "plt.ylabel(\"Number of Data\")\n",
    "plt.show()"
   ]
  },
  {
   "cell_type": "code",
   "execution_count": null,
   "metadata": {},
   "outputs": [],
   "source": [
    "df2 = pd.read_csv(\"hel_train_val_test.csv\", index_col=None, header=0)\n",
    "df2"
   ]
  },
  {
   "cell_type": "code",
   "execution_count": null,
   "metadata": {},
   "outputs": [],
   "source": [
    "contact2 = df2.iloc[1, 1:].values.tolist()\n",
    "ncontact2 = df2.iloc[0, 1:].values.tolist()\n",
    "labels2 = df2.columns[1:].values.tolist()\n",
    "labels2\n",
    "contact2"
   ]
  },
  {
   "cell_type": "code",
   "execution_count": null,
   "metadata": {},
   "outputs": [],
   "source": [
    "left2 = np.arange(len(contact2))\n",
    "plt.figure(figsize=(8, 4))\n",
    "width = 0.3\n",
    "\n",
    "plt.bar(left2, ncontact2, width=width, align='center', label=\"Not Contact\")\n",
    "plt.bar(left2+width+0.05, contact2, width=width, align='center', label=\"Contact\")\n",
    "\n",
    "plt.xticks(left2 + width/2, labels2)\n",
    "plt.legend()\n",
    "plt.xlabel(\"Learning Phase\")\n",
    "plt.ylabel(\"Number of Data\")\n",
    "plt.show()"
   ]
  },
  {
   "cell_type": "code",
   "execution_count": null,
   "metadata": {},
   "outputs": [],
   "source": []
  }
 ],
 "metadata": {
  "kernelspec": {
   "display_name": "develop",
   "language": "python",
   "name": "python3"
  },
  "language_info": {
   "codemirror_mode": {
    "name": "ipython",
    "version": 3
   },
   "file_extension": ".py",
   "mimetype": "text/x-python",
   "name": "python",
   "nbconvert_exporter": "python",
   "pygments_lexer": "ipython3",
   "version": "3.9.15"
  },
  "orig_nbformat": 4
 },
 "nbformat": 4,
 "nbformat_minor": 2
}
