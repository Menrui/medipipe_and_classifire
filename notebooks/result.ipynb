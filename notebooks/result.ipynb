{
 "cells": [
  {
   "cell_type": "code",
   "execution_count": null,
   "metadata": {},
   "outputs": [],
   "source": [
    "import os\n",
    "import pandas as pd\n",
    "import numpy as np\n",
    "from pathlib import Path\n",
    "from tqdm import tqdm\n",
    "import matplotlib.pyplot as plt\n",
    "from PIL import Image"
   ]
  },
  {
   "cell_type": "code",
   "execution_count": null,
   "metadata": {},
   "outputs": [],
   "source": [
    "data_dir = Path(\"../data/photographed_data/\")\n",
    "render_dir = Path(\"../data/mediapipe_render/\")\n",
    "log_dir = Path(\"../logs/evaluations/runs/image-translate_aug2/best\")\n",
    "save_dir = log_dir.joinpath(\"incorrect_img\")\n",
    "save_dir.mkdir(exist_ok=True)\n",
    "df = pd.read_csv(log_dir.joinpath(\"result.csv\"))\n",
    "df.head()"
   ]
  },
  {
   "cell_type": "code",
   "execution_count": null,
   "metadata": {},
   "outputs": [],
   "source": [
    "targets = df[\"TARGETS\"].values\n",
    "preds = df[\"PREDs\"].values\n",
    "correct_path = df[targets == preds][\"PATH\"]\n",
    "incorrect_df = df[targets != preds]\n",
    "incorrect_df"
   ]
  },
  {
   "cell_type": "code",
   "execution_count": null,
   "metadata": {},
   "outputs": [],
   "source": [
    "category = [\"not_contact\", \"contact\"]\n",
    "is_render = False\n",
    "for i, relative_img_path in enumerate(tqdm(incorrect_df[\"PATH\"].values)):\n",
    "    target, pred = incorrect_df.iloc[i,1:]\n",
    "    if is_render:\n",
    "        img_path = render_dir.joinpath(relative_img_path) \n",
    "    else:\n",
    "        img_path = data_dir.joinpath(relative_img_path) \n",
    "    image = np.array(Image.open(img_path))\n",
    "    tag = category[target]\n",
    "    plt.imshow(image)\n",
    "    plt.title(f\"GT:{tag}, pred:{category[pred]}\")\n",
    "    # plt.show()\n",
    "    plt.savefig(save_dir.joinpath(img_path.name))\n",
    "    plt.clf()\n",
    "    plt.close()\n",
    "    # break"
   ]
  },
  {
   "cell_type": "code",
   "execution_count": null,
   "metadata": {},
   "outputs": [],
   "source": []
  }
 ],
 "metadata": {
  "kernelspec": {
   "display_name": "develop",
   "language": "python",
   "name": "python3"
  },
  "language_info": {
   "codemirror_mode": {
    "name": "ipython",
    "version": 3
   },
   "file_extension": ".py",
   "mimetype": "text/x-python",
   "name": "python",
   "nbconvert_exporter": "python",
   "pygments_lexer": "ipython3",
   "version": "3.9.15"
  },
  "orig_nbformat": 4
 },
 "nbformat": 4,
 "nbformat_minor": 2
}
